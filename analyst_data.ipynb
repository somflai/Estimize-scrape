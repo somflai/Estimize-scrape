from selenium import webdriver
from selenium.webdriver.support.ui import Select
import pandas as pd
from selenium.common.exceptions import NoSuchElementException
import pandas as pd
from selenium.common.exceptions import TimeoutException
from selenium.webdriver.support.ui import WebDriverWait
from selenium.webdriver.common.by import By
from selenium.webdriver.support import expected_conditions as EC
import time
from selenium.webdriver.common.keys import Keys
from IPython.display import display
import re
import requests
options = webdriver.ChromeOptions() 
options.add_experimental_option("excludeSwitches", ["enable-logging"])
driver = webdriver.Chrome(options=options, executable_path=r'C:\\Personal Drive\\University\\Sem-1\\Data Management\\Project 3\\chromedriver.exe')
df = pd.read_csv('ana.csv')
# display(df)
ana_num = pd.DataFrame(columns=['username','name','roles','join_date','confi_score','error_rate','accuracy_percentile','points','points_estimate','stocks','pending','pending_estimates','stocks_covered','scored_estimates'])
for index, row in df.iterrows():
    num_li = []
    analyst_info = []
    link = 'https://www.estimize.com//users//' + row['analyst'].lower()
    analyst_info.append(row['analyst'])
    options = webdriver.ChromeOptions() 
    options.add_experimental_option("excludeSwitches", ["enable-logging"])
    driver = webdriver.Chrome(options=options, executable_path=r'C:\\Personal Drive\\University\\Sem-1\\Data Management\\Project 3\\chromedriver.exe')
    # driver = webdriver.Chrome(executable_path="C:\\Personal Drive\\University\\Sem-1\\Data Management\\Project 3\\chromedriver.exe")
    driver.get(link)
    try:
        sco_esti = []
        name = driver.find_element_by_class_name('profile-display-name')
        # print(name.text)
        analyst_info.append(name.text)
        roles = driver.find_element_by_class_name('profile-bio-categorizations')
        analyst_info.append(roles.text)
        # print(roles.text)
        join_date = driver.find_element_by_class_name('profile-activity-stats').text
        join_date = join_date.split(' ')[2:4]
        join_date = join_date[0] +' '+join_date[1]
        analyst_info.append(join_date)
        confi_score = driver.find_element_by_xpath('//*[@id="confidence-wrap"]/div/div[2]')
        analyst_info.append(confi_score.text)
        scores = driver.find_elements_by_class_name('profile-stat-secondary')
        for i in scores:
            num_li.append(i.text.splitlines())
        # print(type(str(num_li[0])))    
        error_rate = (re.findall(r"[-+]?\d*\.\d+|\d+",str(num_li[0])))[0]
        analyst_info.append(error_rate)
        accuracy_percentile = (re.findall(r"[-+]?\d*\.\d+|\d+",str(num_li[1])))[0]
        analyst_info.append(accuracy_percentile)
        points = (re.findall(r"[-+]?\d*\.\d+|\d+",str(num_li[2])))[0]
        analyst_info.append(points)
        points_estimate = (re.findall(r"[-+]?\d*\.\d+|\d+",str(num_li[3])))[0]
        analyst_info.append(points_estimate)
        stocks = (re.findall(r"[-+]?\d*\.\d+|\d+",str(num_li[4])))[0]
        analyst_info.append(stocks)
        pending = (re.findall(r"[-+]?\d*\.\d+|\d+",str(num_li[5])))[0]
        analyst_info.append(pending)
        scored_estimates = driver.find_elements_by_xpath('//*[@id="equities"]/div[1]/div[4]/p/strong')
        for i in scored_estimates:
            sco_esti.append(i.text)
        sc_estimates = str(sco_esti[0]).split('/')
        # sc_estimates = (re.findall(r"[-+]?\d*\.\d+|\d+",str(sc_estimates[1])))[0]
        # analyst_info.append(sc_estimates) 
        driver.execute_script("window.scrollTo(0, 1000)")
        time.sleep(20) 
        stats = driver.find_elements_by_class_name('profile-tbl-pagination-total-count')
        scores = []
        for i in stats:
            # print(i.text)
            scores.append(i.text)
        # print(stocks_covered.text)
        # print(scores)
        # print(len(scores))
        if(len(scores) == 3):
            analyst_info.append(scores[0])
            analyst_info.append(scores[1])
            analyst_info.append(scores[2])
            # print('3')
        elif(len(scores) == 2):
            analyst_info.append(scores[0])
            analyst_info.append('0')
            analyst_info.append(scores[1])
            print('2')                     
        elif(len(scores) == 1):
            analyst_info.append('0')
            analyst_info.append('0')
            analyst_info.append(scores[0])
            print('1')  
        print(analyst_info)
        ana_num.loc[len(ana_num.index)] = analyst_info   
        driver.close()
    except:
        driver.close()
        continue    
    # print(link)
ana_num.to_csv('Analyst_stats.csv')    
# https://www.estimize.com/users/billb1210